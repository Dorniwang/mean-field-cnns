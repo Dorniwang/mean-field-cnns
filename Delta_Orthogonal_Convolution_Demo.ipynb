{
  "nbformat": 4,
  "nbformat_minor": 0,
  "metadata": {
    "colab": {
      "name": "Delta-orthogonal convolution demo",
      "version": "0.3.2",
      "views": {},
      "default_view": {},
      "provenance": [
        {
          "file_id": "https://github.com/brain-research/mean-field-cnns/blob/master/Delta_Orthogonal_Convolution_Demo.ipynb",
          "timestamp": 1531087430434
        },
        {
          "file_id": "/piper/depot/google3/experimental/users/xlc/tutorial/delta-orthogonal/Delta_Orthogonal_Convolution_Tutorial.ipynb?workspaceId=xlc:delta-tutorial::citc",
          "timestamp": 1530912596374
        },
        {
          "file_id": "1jCrtgpsARtzdK15DU3n_Fg7sg3i8Z_zH",
          "timestamp": 1530817417472
        }
      ],
      "collapsed_sections": [
        "yM4dNJo5vTNK"
      ]
    }
  },
  "cells": [
    {
      "metadata": {
        "id": "yM4dNJo5vTNK",
        "colab_type": "text"
      },
      "cell_type": "markdown",
      "source": [
        "##### Copyright 2018 Google LLC.\n",
        "\n",
        "Licensed under the Apache License, Version 2.0 (the \"License\");"
      ]
    },
    {
      "metadata": {
        "id": "gXsmXsnSvSWg",
        "colab_type": "code",
        "colab": {
          "autoexec": {
            "startup": false,
            "wait_interval": 0
          }
        }
      },
      "cell_type": "code",
      "source": [
        "#@title Delta Orthogonal Convolution Tutorial\n",
        "# Licensed under the Apache License, Version 2.0 (the \"License\");\n",
        "# you may not use this file except in compliance with the License.\n",
        "# You may obtain a copy of the License at\n",
        "#\n",
        "# https://www.apache.org/licenses/LICENSE-2.0\n",
        "#\n",
        "# Unless required by applicable law or agreed to in writing, software\n",
        "# distributed under the License is distributed on an \"AS IS\" BASIS,\n",
        "# WITHOUT WARRANTIES OR CONDITIONS OF ANY KIND, either express or implied.\n",
        "# See the License for the specific language governing permissions and\n",
        "# limitations under the License."
      ],
      "execution_count": 0,
      "outputs": []
    },
    {
      "metadata": {
        "id": "TgkHGgykhOgv",
        "colab_type": "text"
      },
      "cell_type": "markdown",
      "source": [
        "# Initialization"
      ]
    },
    {
      "metadata": {
        "id": "zkS604HdvdOc",
        "colab_type": "code",
        "colab": {
          "autoexec": {
            "startup": false,
            "wait_interval": 0
          },
          "base_uri": "https://localhost:8080/",
          "height": 85
        },
        "outputId": "6aafe533-a97c-4e54-e006-4651a62c920d",
        "executionInfo": {
          "status": "ok",
          "timestamp": 1531086446327,
          "user_tz": 420,
          "elapsed": 1023,
          "user": {
            "displayName": "",
            "photoUrl": "",
            "userId": ""
          }
        }
      },
      "cell_type": "code",
      "source": [
        "import matplotlib.pylab as plt\n",
        "import numpy as np\n",
        "import tensorflow as tf\n",
        "import warnings\n",
        "\n",
        "from scipy.integrate import quad, dblquad\n",
        "from tensorflow.examples.tutorials.mnist import input_data\n",
        "\n",
        "mnist = input_data.read_data_sets(\"MNIST_data/\", one_hot=True)"
      ],
      "execution_count": 0,
      "outputs": [
        {
          "output_type": "stream",
          "text": [
            "Extracting MNIST_data/train-images-idx3-ubyte.gz\n",
            "Extracting MNIST_data/train-labels-idx1-ubyte.gz\n",
            "Extracting MNIST_data/t10k-images-idx3-ubyte.gz\n",
            "Extracting MNIST_data/t10k-labels-idx1-ubyte.gz\n"
          ],
          "name": "stdout"
        }
      ]
    },
    {
      "metadata": {
        "id": "AQDA6OyOK2mT",
        "colab_type": "text"
      },
      "cell_type": "markdown",
      "source": [
        "## Helper functions and class for mean field calculations."
      ]
    },
    {
      "metadata": {
        "id": "nVt1knDlyJrj",
        "colab_type": "code",
        "colab": {
          "autoexec": {
            "startup": false,
            "wait_interval": 0
          }
        }
      },
      "cell_type": "code",
      "source": [
        "def gauss_density(x):\n",
        "  return np.exp(-x**2/2)/np.sqrt(2*np.pi)\n",
        "\n",
        "def d_tanh(x):\n",
        "  \"\"\"Derivative of tanh.\"\"\"\n",
        "  return 1./ np.cosh(x)**2"
      ],
      "execution_count": 0,
      "outputs": []
    },
    {
      "metadata": {
        "id": "z6Ps0zhZF2yT",
        "colab_type": "code",
        "colab": {
          "autoexec": {
            "startup": false,
            "wait_interval": 0
          }
        }
      },
      "cell_type": "code",
      "source": [
        "class MeanField(object):\n",
        "  def __init__(self, f, df):\n",
        "    \"\"\"\n",
        "    Args: \n",
        "      f: activation function\n",
        "      df: derivative of f. \n",
        "    \"\"\"\n",
        "    self.f = f\n",
        "    self.df = df\n",
        "  \n",
        "  def qmap_density(self, x, q):\n",
        "    \"\"\"Compute the density function of the q-map.\"\"\"\n",
        "    return (self.f(np.sqrt(q)*x)**2)* gauss_density(x)\n",
        "  \n",
        "  def chi_density(self, x, q):\n",
        "    return gauss_density(x) * (self.df(np.sqrt(q)*x)**2) \n",
        "  \n",
        "  def sw_sb(self, q, chi1):\n",
        "    \"\"\"Compute the critical line. Set chi1=1, return variances of weight and \n",
        "       bias on the critical line with qstar=q.\n",
        "    \"\"\"\n",
        "    big_val = 1e12\n",
        "    with warnings.catch_warnings():\n",
        "      warnings.simplefilter(\"ignore\") # silence underflow and overflow warning\n",
        "      sw = chi1/quad(self.chi_density, -np.inf, np.inf, args= (q))[0]\n",
        "      sb = q - sw * quad(self.qmap_density, -np.inf, np.inf, args= (q))[0]\n",
        "    return sw, sb"
      ],
      "execution_count": 0,
      "outputs": []
    },
    {
      "metadata": {
        "id": "Dq87r6zkKzFF",
        "colab_type": "text"
      },
      "cell_type": "markdown",
      "source": [
        "# Phase diagram"
      ]
    },
    {
      "metadata": {
        "id": "7qANsoKoGFUF",
        "colab_type": "code",
        "colab": {
          "autoexec": {
            "startup": false,
            "wait_interval": 0
          },
          "base_uri": "https://localhost:8080/",
          "height": 365
        },
        "outputId": "3cfc7ef1-1af2-4262-a723-1a9432330c60",
        "executionInfo": {
          "status": "ok",
          "timestamp": 1531086456115,
          "user_tz": 420,
          "elapsed": 1328,
          "user": {
            "displayName": "",
            "photoUrl": "",
            "userId": ""
          }
        }
      },
      "cell_type": "code",
      "source": [
        "background = [255.0/255.0, 229/255.0, 204/255.0]\n",
        "fontsize=16\n",
        "\n",
        "mf = MeanField(np.tanh, d_tanh)\n",
        "n = 50\n",
        "qrange = np.linspace(1e-5, 2.25, n)\n",
        "\n",
        "sw = [mf.sw_sb(q, 1)[0] for q in qrange]\n",
        "sb = [mf.sw_sb(q, 1)[1] for q in qrange]\n",
        "\n",
        "\n",
        "plt.figure(figsize=(5, 5))\n",
        "plt.plot(sw, sb)\n",
        "plt.xlim(0.5, 3)\n",
        "plt.ylim(0, 0.25)\n",
        "plt.title('Phase diagram', fontsize=fontsize)\n",
        "plt.xlabel('$\\sigma_\\omega^2$', fontsize=fontsize)\n",
        "plt.ylabel('$\\sigma_b^2$', fontsize=fontsize)\n",
        "\n",
        "plt.gca().set_facecolor(background)\n",
        "plt.gcf().set_size_inches(plt.gcf().get_size_inches()[1], plt.gcf().get_size_inches()[1])\n"
      ],
      "execution_count": 0,
      "outputs": [
        {
          "output_type": "display_data",
          "data": {
            "image/png": "[encoded data removed]",
            "text/plain": [
              "<matplotlib.figure.Figure at 0x7fe18d312e10>"
            ]
          },
          "metadata": {
            "tags": []
          }
        }
      ]
    },
    {
      "metadata": {
        "id": "d6bOit_9hky-",
        "colab_type": "text"
      },
      "cell_type": "markdown",
      "source": [
        "# Train Delta Orthogonal Network"
      ]
    },
    {
      "metadata": {
        "id": "Ly8JGExPqG6b",
        "colab_type": "code",
        "colab": {
          "autoexec": {
            "startup": false,
            "wait_interval": 0
          }
        }
      },
      "cell_type": "code",
      "source": [
        "# DEPTH and C_SIZE are chosen to be small for a fast running demo. You will want\n",
        "# to increase both values for most use cases.\n",
        "DEPTH = 16 # number of layers.\n",
        "C_SIZE = 32 # channel size.\n",
        "K_SIZE = 3 # kernel size  # bias variance.\n",
        "LEARNING_RATE = 1e-2\n",
        "phi = tf.tanh # non-linearity\n",
        "\n",
        "# variances of weight and bias. \n",
        "# To obtain critical values of the variances of the weights and biases,\n",
        "# see compute mean field below.  \n",
        "mf = MeanField(np.tanh, d_tanh)\n",
        "W_VAR, B_VAR = mf.sw_sb(1./DEPTH, 1)\n",
        "# 1.05, 2.01e-5 \n",
        "\n",
        "\n",
        "def circular_padding(input_, width, kernel_size):\n",
        "  \"\"\"Padding input_ for computing circular convolution.\"\"\"\n",
        "  begin = kernel_size // 2\n",
        "  end = kernel_size - 1 - begin\n",
        "  tmp_up = tf.slice(input_, [0, width - begin, 0, 0], [-1, begin, width, -1])\n",
        "  tmp_down = tf.slice(input_, [0, 0, 0, 0], [-1, end, width, -1])\n",
        "  tmp = tf.concat([tmp_up, input_, tmp_down], 1)\n",
        "  new_width = width + kernel_size - 1\n",
        "  tmp_left = tf.slice(tmp, [0, 0, width - begin, 0], [-1, new_width, begin, -1])\n",
        "  tmp_right = tf.slice(tmp, [0, 0, 0, 0], [-1, new_width, end, -1])\n",
        "  return  tf.concat([tmp_left, tmp, tmp_right], 2)\n",
        "\n",
        "def conv2d(x, w, strides=1, padding='SAME'):\n",
        "  return tf.nn.conv2d(x, w, strides=[1, strides, strides, 1], padding=padding)\n",
        "\n",
        "def get_weight(shape, std, name=None):\n",
        "  return tf.Variable(tf.random_normal(shape, mean=0, stddev=std), name=name)\n",
        "\n",
        "def get_orthogonal_weight(name, shape, std=1):\n",
        "  # Can also use tf.contrib.framework.convolutional_orthogonal_2d\n",
        "  return tf.get_variable(name, shape=shape,\n",
        "     initializer=tf.contrib.framework.convolutional_delta_orthogonal(gain=std))\n",
        "\n",
        "def get_weight(shape, std, name=None):\n",
        "  return tf.Variable(tf.random_normal(shape, mean=0, stddev=std), name=name)\n",
        "\n",
        "def conv_model(x):\n",
        "  \"\"\"Convolutional layers. Ouput logits. \"\"\"\n",
        "  z = tf.reshape(x, [-1,28,28,1])\n",
        "  # Increase the channel size to C_SIZE.\n",
        "  std = np.sqrt(W_VAR / (K_SIZE**2 * 1))\n",
        "  kernel = get_weight([K_SIZE, K_SIZE, 1, C_SIZE], std=std, name='kernel_0')\n",
        "  bias = get_weight([C_SIZE], std=np.sqrt(B_VAR), name='bias_0')\n",
        "  h = conv2d(z, kernel, strides=1, padding='SAME') + bias\n",
        "  z = phi(h)\n",
        "  \n",
        "  # Reducing spacial dimension to 7 * 7; applying conv with stride=2 twice.\n",
        "  std = np.sqrt(W_VAR / (K_SIZE**2 * C_SIZE))\n",
        "  shape = [K_SIZE, K_SIZE, C_SIZE, C_SIZE]\n",
        "  for j in range(2):\n",
        "    kernel = get_weight(shape, std=std, name='reduction_{}_kernel'.format(j))\n",
        "    bias = get_weight([C_SIZE], std=np.sqrt(B_VAR),\n",
        "                      name='reduction_{}_bias'.format(j))\n",
        "    h = conv2d(z, kernel, strides=2) + bias\n",
        "    z = phi(h)\n",
        "  new_width = 7 # width of the current image after dimension reduction. \n",
        "  \n",
        "  # A deep convolution block with depth=DEPTH.\n",
        "  for j in range(DEPTH):\n",
        "    name = 'block_conv_{}'.format(j)\n",
        "    kernel_name, bias_name = name + 'kernel', name + 'bias'\n",
        "    kernel = get_orthogonal_weight(kernel_name, shape, std=np.sqrt(W_VAR))\n",
        "    bias = get_weight([C_SIZE], std=np.sqrt(B_VAR), name=bias_name)\n",
        "    z_pad = circular_padding(z, new_width, K_SIZE)\n",
        "    h = conv2d(z_pad, kernel, padding='VALID') + bias\n",
        "    z = phi(h)\n",
        "  z_ave = tf.reduce_mean(z, [1, 2])\n",
        "  weight_to_classes = get_weight([C_SIZE, 10], np.sqrt(W_VAR/C_SIZE))\n",
        "  return tf.matmul(z_ave, weight_to_classes) + get_weight([10], np.sqrt(B_VAR))\n",
        "\n",
        "def loss(logits, labels):\n",
        "  return tf.reduce_mean(\n",
        "      tf.nn.softmax_cross_entropy_with_logits_v2(logits=logits, labels=labels))\n",
        "\n",
        "def train_op(loss_, learning_rate, global_step):\n",
        "  with tf.control_dependencies([tf.assign(global_step, global_step + 1)]):\n",
        "    return tf.train.MomentumOptimizer(learning_rate, 0.95).minimize(loss_)\n",
        "\n",
        "def accuracy(logits, labels):\n",
        "  return tf.reduce_mean(tf.cast(tf.equal(tf.argmax(logits, 1),\n",
        "                                         tf.argmax(labels, 1)), \n",
        "                                tf.float32))\n",
        "\n",
        "def run_model(num_steps=1000):\n",
        "  tf.reset_default_graph()\n",
        "  accuracy_log = []\n",
        "  loss_log = []\n",
        "  x = tf.placeholder(tf.float32, shape=[None, 784])\n",
        "  y_ = tf.placeholder(tf.float32, shape=[None, 10])\n",
        "  global_step = tf.train.get_or_create_global_step()\n",
        "  logits = conv_model(x)\n",
        "  acc, loss_ = accuracy(logits, y_), loss(logits, y_)\n",
        "  training = train_op(loss_, LEARNING_RATE, global_step)\n",
        "  with tf.Session() as sess:\n",
        "    sess.run(tf.global_variables_initializer())\n",
        "    for i in range(num_steps):\n",
        "      batch_xs, batch_ys = mnist.train.next_batch(100)\n",
        "      _, acc_value, loss_value, g_step = sess.run(\n",
        "          [training, acc, loss_, global_step], \n",
        "          feed_dict={x:batch_xs, y_:batch_ys})\n",
        "      accuracy_log.append(acc_value)\n",
        "      loss_log.append(loss_value)\n",
        "      if i % (num_steps/20) == 0: \n",
        "        print('Step: %5d Accuracy: %.2f Loss: %g'%(g_step, acc_value, loss_value))\n",
        "  return accuracy_log, loss_log\n"
      ],
      "execution_count": 0,
      "outputs": []
    },
    {
      "metadata": {
        "id": "mi0I2nqPK1pW",
        "colab_type": "code",
        "colab": {
          "autoexec": {
            "startup": false,
            "wait_interval": 0
          },
          "base_uri": "https://localhost:8080/",
          "height": 357
        },
        "outputId": "3e4b0d38-6a9e-42cf-a0ff-771a49c75c76",
        "executionInfo": {
          "status": "ok",
          "timestamp": 1531087418398,
          "user_tz": 420,
          "elapsed": 309527,
          "user": {
            "displayName": "",
            "photoUrl": "",
            "userId": ""
          }
        }
      },
      "cell_type": "code",
      "source": [
        "accuracy_log, loss_log = run_model()"
      ],
      "execution_count": 0,
      "outputs": [
        {
          "output_type": "stream",
          "text": [
            "Step:     1 Accuracy: 0.09 Loss: 2.29797\n",
            "Step:    51 Accuracy: 0.22 Loss: 2.0288\n",
            "Step:   101 Accuracy: 0.36 Loss: 1.65097\n",
            "Step:   151 Accuracy: 0.28 Loss: 1.66644\n",
            "Step:   201 Accuracy: 0.41 Loss: 1.32293\n",
            "Step:   251 Accuracy: 0.46 Loss: 1.44407\n",
            "Step:   301 Accuracy: 0.55 Loss: 1.17504\n",
            "Step:   351 Accuracy: 0.57 Loss: 0.969214\n",
            "Step:   401 Accuracy: 0.81 Loss: 0.70409\n",
            "Step:   451 Accuracy: 0.82 Loss: 0.561811\n",
            "Step:   501 Accuracy: 0.79 Loss: 0.590406\n",
            "Step:   551 Accuracy: 0.87 Loss: 0.562862\n",
            "Step:   601 Accuracy: 0.92 Loss: 0.384525\n",
            "Step:   651 Accuracy: 0.88 Loss: 0.364697\n",
            "Step:   701 Accuracy: 0.89 Loss: 0.345731\n",
            "Step:   751 Accuracy: 0.86 Loss: 0.548932\n",
            "Step:   801 Accuracy: 0.92 Loss: 0.265037\n",
            "Step:   851 Accuracy: 0.88 Loss: 0.724711\n",
            "Step:   901 Accuracy: 0.98 Loss: 0.0842598\n",
            "Step:   951 Accuracy: 0.98 Loss: 0.113124\n"
          ],
          "name": "stdout"
        }
      ]
    },
    {
      "metadata": {
        "id": "wo2vHvlG1IoF",
        "colab_type": "code",
        "colab": {
          "autoexec": {
            "startup": false,
            "wait_interval": 0
          },
          "base_uri": "https://localhost:8080/",
          "height": 334
        },
        "outputId": "b7af75c0-73b5-4794-822f-ad50a5b6e4f7",
        "executionInfo": {
          "status": "ok",
          "timestamp": 1531087419041,
          "user_tz": 420,
          "elapsed": 614,
          "user": {
            "displayName": "",
            "photoUrl": "",
            "userId": ""
          }
        }
      },
      "cell_type": "code",
      "source": [
        "background = [255.0/255.0, 229/255.0, 204/255.0]\n",
        "\n",
        "plt.figure(figsize=(12, 5))\n",
        "plt.subplot(1,2,1)\n",
        "plt.plot(accuracy_log)\n",
        "plt.xlabel('Training step')\n",
        "plt.ylabel('Training accuracy')\n",
        "plt.gca().set_facecolor(background)\n",
        "\n",
        "plt.subplot(1,2,2)\n",
        "plt.plot(loss_log)\n",
        "plt.xlabel('Training step')\n",
        "plt.ylabel('Training loss')\n",
        "plt.gca().set_facecolor(background)"
      ],
      "execution_count": 0,
      "outputs": [
        {
          "output_type": "display_data",
          "data": {
            "image/png": "[encoded data removed]",
            "text/plain": [
              "<matplotlib.figure.Figure at 0x7fe178a6b090>"
            ]
          },
          "metadata": {
            "tags": []
          }
        }
      ]
    },
    {
      "metadata": {
        "id": "vfV9vle55IDU",
        "colab_type": "code",
        "colab": {
          "autoexec": {
            "startup": false,
            "wait_interval": 0
          }
        }
      },
      "cell_type": "code",
      "source": [
        ""
      ],
      "execution_count": 0,
      "outputs": []
    }
  ]
}