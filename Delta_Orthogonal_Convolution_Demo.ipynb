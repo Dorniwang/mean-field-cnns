{
  "nbformat": 4,
  "nbformat_minor": 0,
  "metadata": {
    "colab": {
      "name": "Delta Orthogonal Convolution Tutorial",
      "version": "0.3.2",
      "views": {},
      "default_view": {},
      "provenance": [
        {
          "file_id": "/piper/depot/google3/experimental/users/xlc/tutorial/delta-orthogonal/Delta_Orthogonal_Convolution_Tutorial.ipynb?workspaceId=xlc:delta-tutorial::citc",
          "timestamp": 1530912596374
        },
        {
          "file_id": "1jCrtgpsARtzdK15DU3n_Fg7sg3i8Z_zH",
          "timestamp": 1530817417472
        }
      ],
      "collapsed_sections": [
        "yM4dNJo5vTNK"
      ]
    }
  },
  "cells": [
    {
      "metadata": {
        "id": "yM4dNJo5vTNK",
        "colab_type": "text"
      },
      "cell_type": "markdown",
      "source": [
        "##### Copyright 2018 Google LLC.\n",
        "\n",
        "Licensed under the Apache License, Version 2.0 (the \"License\");"
      ]
    },
    {
      "metadata": {
        "id": "gXsmXsnSvSWg",
        "colab_type": "code",
        "colab": {
          "autoexec": {
            "startup": false,
            "wait_interval": 0
          },
          "base_uri": "https://localhost:8080/",
          "height": 17
        },
        "outputId": "22523508-2bc6-4c61-e2c5-2f6046bc1b52",
        "executionInfo": {
          "status": "ok",
          "timestamp": 1531083990918,
          "user_tz": 420,
          "elapsed": 20226,
          "user": {
            "displayName": "",
            "photoUrl": "",
            "userId": ""
          }
        }
      },
      "cell_type": "code",
      "source": [
        "#@title Delta Orthogonal Convolution Tutorial\n",
        "# Licensed under the Apache License, Version 2.0 (the \"License\");\n",
        "# you may not use this file except in compliance with the License.\n",
        "# You may obtain a copy of the License at\n",
        "#\n",
        "# https://www.apache.org/licenses/LICENSE-2.0\n",
        "#\n",
        "# Unless required by applicable law or agreed to in writing, software\n",
        "# distributed under the License is distributed on an \"AS IS\" BASIS,\n",
        "# WITHOUT WARRANTIES OR CONDITIONS OF ANY KIND, either express or implied.\n",
        "# See the License for the specific language governing permissions and\n",
        "# limitations under the License."
      ],
      "execution_count": 1,
      "outputs": []
    },
    {
      "metadata": {
        "id": "TgkHGgykhOgv",
        "colab_type": "text"
      },
      "cell_type": "markdown",
      "source": [
        "# Initialization"
      ]
    },
    {
      "metadata": {
        "id": "zkS604HdvdOc",
        "colab_type": "code",
        "colab": {
          "autoexec": {
            "startup": false,
            "wait_interval": 0
          },
          "base_uri": "https://localhost:8080/",
          "height": 85
        },
        "outputId": "a2fdb720-b08b-4754-b53a-7bedc8f08c29",
        "executionInfo": {
          "status": "ok",
          "timestamp": 1531086228428,
          "user_tz": 420,
          "elapsed": 1071,
          "user": {
            "displayName": "",
            "photoUrl": "",
            "userId": ""
          }
        }
      },
      "cell_type": "code",
      "source": [
        "import matplotlib.pylab as plt\n",
        "import numpy as np\n",
        "import tensorflow as tf\n",
        "import warnings\n",
        "\n",
        "from scipy.integrate import quad, dblquad\n",
        "from tensorflow.examples.tutorials.mnist import input_data\n",
        "\n",
        "mnist = input_data.read_data_sets(\"MNIST_data/\", one_hot=True)"
      ],
      "execution_count": 36,
      "outputs": [
        {
          "output_type": "stream",
          "text": [
            "Extracting MNIST_data/train-images-idx3-ubyte.gz\n",
            "Extracting MNIST_data/train-labels-idx1-ubyte.gz\n",
            "Extracting MNIST_data/t10k-images-idx3-ubyte.gz\n",
            "Extracting MNIST_data/t10k-labels-idx1-ubyte.gz\n"
          ],
          "name": "stdout"
        }
      ]
    },
    {
      "metadata": {
        "id": "AQDA6OyOK2mT",
        "colab_type": "text"
      },
      "cell_type": "markdown",
      "source": [
        "## Helper functions and class for mean field calculations."
      ]
    },
    {
      "metadata": {
        "id": "nVt1knDlyJrj",
        "colab_type": "code",
        "colab": {
          "autoexec": {
            "startup": false,
            "wait_interval": 0
          },
          "base_uri": "https://localhost:8080/",
          "height": 17
        },
        "outputId": "f82fb140-7bcf-448b-9312-d8512ad6dba5",
        "executionInfo": {
          "status": "ok",
          "timestamp": 1531086235749,
          "user_tz": 420,
          "elapsed": 470,
          "user": {
            "displayName": "",
            "photoUrl": "",
            "userId": ""
          }
        }
      },
      "cell_type": "code",
      "source": [
        "def gauss_density(x):\n",
        "  return np.exp(-x**2/2)/np.sqrt(2*np.pi)\n",
        "\n",
        "def d_tanh(x):\n",
        "  \"\"\"Derivative of tanh.\"\"\"\n",
        "  return 1./ np.cosh(x)**2"
      ],
      "execution_count": 37,
      "outputs": []
    },
    {
      "metadata": {
        "id": "z6Ps0zhZF2yT",
        "colab_type": "code",
        "colab": {
          "autoexec": {
            "startup": false,
            "wait_interval": 0
          },
          "base_uri": "https://localhost:8080/",
          "height": 17
        },
        "outputId": "43fc99b8-35f2-4499-cdf7-8f9971ab5e10",
        "executionInfo": {
          "status": "ok",
          "timestamp": 1531086236779,
          "user_tz": 420,
          "elapsed": 470,
          "user": {
            "displayName": "",
            "photoUrl": "",
            "userId": ""
          }
        }
      },
      "cell_type": "code",
      "source": [
        "class MeanField(object):\n",
        "  def __init__(self, f, df):\n",
        "    \"\"\"\n",
        "    Args: \n",
        "      f: activation function\n",
        "      df: derivative of f. \n",
        "    \"\"\"\n",
        "    self.f = f\n",
        "    self.df = df\n",
        "  \n",
        "  def qmap_density(self, x, q):\n",
        "    \"\"\"Compute the density function of the q-map.\"\"\"\n",
        "    return (self.f(np.sqrt(q)*x)**2)* gauss_density(x)\n",
        "  \n",
        "  def chi_density(self, x, q):\n",
        "    return gauss_density(x) * (self.df(np.sqrt(q)*x)**2) \n",
        "  \n",
        "  def sw_sb(self, q, chi1):\n",
        "    \"\"\"Compute the critical line. Set chi1=1, return variances of weight and \n",
        "       bias on the critical line with qstar=q.\n",
        "    \"\"\"\n",
        "    big_val = 1e12\n",
        "    with warnings.catch_warnings():\n",
        "      warnings.simplefilter(\"ignore\") # silence underflow and overflow warning\n",
        "      sw = chi1/quad(self.chi_density, -np.inf, np.inf, args= (q))[0]\n",
        "      sb = q - sw * quad(self.qmap_density, -np.inf, np.inf, args= (q))[0]\n",
        "    return sw, sb"
      ],
      "execution_count": 38,
      "outputs": []
    },
    {
      "metadata": {
        "id": "Dq87r6zkKzFF",
        "colab_type": "text"
      },
      "cell_type": "markdown",
      "source": [
        "# Phase diagram"
      ]
    },
    {
      "metadata": {
        "id": "7qANsoKoGFUF",
        "colab_type": "code",
        "colab": {
          "autoexec": {
            "startup": false,
            "wait_interval": 0
          },
          "base_uri": "https://localhost:8080/",
          "height": 365
        },
        "outputId": "6c3ed921-774a-4e29-b37f-58df262b72b4",
        "executionInfo": {
          "status": "ok",
          "timestamp": 1531086238783,
          "user_tz": 420,
          "elapsed": 776,
          "user": {
            "displayName": "",
            "photoUrl": "",
            "userId": ""
          }
        }
      },
      "cell_type": "code",
      "source": [
        "background = [255.0/255.0, 229/255.0, 204/255.0]\n",
        "fontsize=16\n",
        "\n",
        "mf = MeanField(np.tanh, d_tanh)\n",
        "n = 50\n",
        "qrange = np.linspace(1e-5, 2.25, n)\n",
        "\n",
        "sw = [mf.sw_sb(q, 1)[0] for q in qrange]\n",
        "sb = [mf.sw_sb(q, 1)[1] for q in qrange]\n",
        "\n",
        "\n",
        "plt.figure(figsize=(5, 5))\n",
        "plt.plot(sw, sb)\n",
        "plt.xlim(0.5, 3)\n",
        "plt.ylim(0, 0.25)\n",
        "plt.title('Phase diagram', fontsize=fontsize)\n",
        "plt.xlabel('$\\sigma_\\omega^2$', fontsize=fontsize)\n",
        "plt.ylabel('$\\sigma_b^2$', fontsize=fontsize)\n",
        "\n",
        "plt.gca().set_facecolor(background)\n",
        "plt.gcf().set_size_inches(plt.gcf().get_size_inches()[1], plt.gcf().get_size_inches()[1])\n"
      ],
      "execution_count": 39,
      "outputs": [
        {
          "output_type": "display_data",
          "data": {
            "image/png": "[encoded data removed]",
            "text/plain": [
              "<matplotlib.figure.Figure at 0x7f2cd1a0a890>"
            ]
          },
          "metadata": {
            "tags": []
          }
        }
      ]
    },
    {
      "metadata": {
        "id": "d6bOit_9hky-",
        "colab_type": "text"
      },
      "cell_type": "markdown",
      "source": [
        "# Train Delta Orthogonal Network"
      ]
    },
    {
      "metadata": {
        "id": "Ly8JGExPqG6b",
        "colab_type": "code",
        "colab": {
          "autoexec": {
            "startup": false,
            "wait_interval": 0
          },
          "base_uri": "https://localhost:8080/",
          "height": 51
        },
        "outputId": "834d8893-04e7-49cd-88e3-20ee3dea94ab",
        "executionInfo": {
          "status": "ok",
          "timestamp": 1531085880988,
          "user_tz": 420,
          "elapsed": 492,
          "user": {
            "displayName": "",
            "photoUrl": "",
            "userId": ""
          }
        }
      },
      "cell_type": "code",
      "source": [
        "# DEPTH and C_SIZE are chosen to be small for a fast running demo. You will want\n",
        "# to increase both values for most use cases.\n",
        "DEPTH = 16 # number of layers.\n",
        "C_SIZE = 32 # channel size.\n",
        "K_SIZE = 3 # kernel size  # bias variance.\n",
        "LEARNING_RATE = 1e-3\n",
        "phi = tf.tanh # non-linearity\n",
        "\n",
        "# variances of weight and bias. \n",
        "# To obtain critical values of the variances of the weights and biases,\n",
        "# see compute mean field below.  \n",
        "mf = MeanField(np.tanh, d_tanh)\n",
        "W_VAR, B_VAR = mf.sw_sb(1./DEPTH, 1)\n",
        "# 1.05, 2.01e-5 \n",
        "\n",
        "\n",
        "def circular_padding(input_, width, kernel_size):\n",
        "  \"\"\"Padding input_ for computing circular convolution.\"\"\"\n",
        "  begin = kernel_size // 2\n",
        "  end = kernel_size - 1 - begin\n",
        "  tmp_up = tf.slice(input_, [0, width - begin, 0, 0], [-1, begin, width, -1])\n",
        "  tmp_down = tf.slice(input_, [0, 0, 0, 0], [-1, end, width, -1])\n",
        "  tmp = tf.concat([tmp_up, input_, tmp_down], 1)\n",
        "  new_width = width + kernel_size - 1\n",
        "  tmp_left = tf.slice(tmp, [0, 0, width - begin, 0], [-1, new_width, begin, -1])\n",
        "  tmp_right = tf.slice(tmp, [0, 0, 0, 0], [-1, new_width, end, -1])\n",
        "  return  tf.concat([tmp_left, tmp, tmp_right], 2)\n",
        "\n",
        "def conv2d(x, w, strides=1, padding='SAME'):\n",
        "  return tf.nn.conv2d(x, w, strides=[1, strides, strides, 1], padding=padding)\n",
        "\n",
        "def get_weight(shape, std, name=None):\n",
        "  return tf.Variable(tf.random_normal(shape, mean=0, stddev=std), name=name)\n",
        "\n",
        "def get_orthogonal_weight(name, shape, std=1):\n",
        "  # Can also use tf.contrib.framework.convolutional_orthogonal_2d\n",
        "  return tf.get_variable(name, shape=shape,\n",
        "     initializer=tf.contrib.framework.convolutional_delta_orthogonal(gain=std))\n",
        "\n",
        "def get_weight(shape, std, name=None):\n",
        "  return tf.Variable(tf.random_normal(shape, mean=0, stddev=std), name=name)\n",
        "\n",
        "def conv_model(x):\n",
        "  \"\"\"Convolutional layers. Ouput logits. \"\"\"\n",
        "  z = tf.reshape(x, [-1,28,28,1])\n",
        "  # Increase the channel size to C_SIZE.\n",
        "  std = np.sqrt(W_VAR / (K_SIZE**2 * 1))\n",
        "  kernel = get_weight([K_SIZE, K_SIZE, 1, C_SIZE], std=std, name='kernel_0')\n",
        "  bias = get_weight([C_SIZE], std=np.sqrt(B_VAR), name='bias_0')\n",
        "  h = conv2d(z, kernel, strides=1, padding='SAME') + bias\n",
        "  z = phi(h)\n",
        "  \n",
        "  # Reducing spacial dimension to 7 * 7; applying conv with stride=2 twice.\n",
        "  std = np.sqrt(W_VAR / (K_SIZE**2 * C_SIZE))\n",
        "  shape = [K_SIZE, K_SIZE, C_SIZE, C_SIZE]\n",
        "  for j in range(2):\n",
        "    kernel = get_weight(shape, std=std, name='reduction_{}_kernel'.format(j))\n",
        "    bias = get_weight([C_SIZE], std=np.sqrt(B_VAR),\n",
        "                      name='reduction_{}_bias'.format(j))\n",
        "    h = conv2d(z, kernel, strides=2) + bias\n",
        "    z = phi(h)\n",
        "  new_width = 7 # width of the current image after dimension reduction. \n",
        "  \n",
        "  # A deep convolution block with depth=DEPTH.\n",
        "  for j in range(DEPTH):\n",
        "    name = 'block_conv_{}'.format(j)\n",
        "    kernel_name, bias_name = name + 'kernel', name + 'bias'\n",
        "    kernel = get_orthogonal_weight(kernel_name, shape, std=np.sqrt(W_VAR))\n",
        "    bias = get_weight([C_SIZE], std=np.sqrt(B_VAR), name=bias_name)\n",
        "    z_pad = circular_padding(z, new_width, K_SIZE)\n",
        "    h = conv2d(z_pad, kernel, padding='VALID') + bias\n",
        "    z = phi(h)\n",
        "  z_ave = tf.reduce_mean(z, [1, 2])\n",
        "  weight_to_classes = get_weight([C_SIZE, 10], np.sqrt(W_VAR/C_SIZE))\n",
        "  return tf.matmul(z_ave, weight_to_classes) + get_weight([10], np.sqrt(B_VAR))\n",
        "\n",
        "def loss(logits, labels):\n",
        "  return tf.reduce_mean(\n",
        "      tf.nn.softmax_cross_entropy_with_logits_v2(logits=logits, labels=labels))\n",
        "\n",
        "def train_op(loss_, learning_rate, global_step):\n",
        "  with tf.control_dependencies([tf.assign(global_step, global_step + 1)]):\n",
        "    return tf.train.MomentumOptimizer(learning_rate, 0.9).minimize(loss_)\n",
        "\n",
        "def accuracy(logits, labels):\n",
        "  return tf.reduce_mean(tf.cast(tf.equal(tf.argmax(logits, 1),\n",
        "                                         tf.argmax(labels, 1)), \n",
        "                                tf.float32))\n",
        "\n",
        "def run_model(num_steps=1000):\n",
        "  tf.reset_default_graph()\n",
        "  x = tf.placeholder(tf.float32, shape=[None, 784])\n",
        "  y_ = tf.placeholder(tf.float32, shape=[None, 10])\n",
        "  global_step = tf.train.get_or_create_global_step()\n",
        "  logits = conv_model(x)\n",
        "  acc, loss_ = accuracy(logits, y_), loss(logits, y_)\n",
        "  training = train_op(loss_, LEARNING_RATE, global_step)\n",
        "  with tf.Session() as sess:\n",
        "    sess.run(tf.global_variables_initializer())\n",
        "    for i in range(num_steps):\n",
        "      batch_xs, batch_ys = mnist.train.next_batch(100)\n",
        "      _, acc_value, loss_value, g_step = sess.run(\n",
        "          [training, acc, loss_, global_step], \n",
        "          feed_dict={x:batch_xs, y_:batch_ys})\n",
        "      if i % 10 == 0: \n",
        "        print('Step: %5d Accuracy: %.2f Loss: %g'%(g_step, acc_value, loss_value))\n"
      ],
      "execution_count": 34,
      "outputs": [
        {
          "output_type": "stream",
          "text": [
            "/usr/local/lib/python2.7/dist-packages/ipykernel_launcher.py:6: RuntimeWarning: overflow encountered in double_scalars\n",
            "  \n"
          ],
          "name": "stderr"
        }
      ]
    },
    {
      "metadata": {
        "id": "mi0I2nqPK1pW",
        "colab_type": "code",
        "colab": {
          "autoexec": {
            "startup": false,
            "wait_interval": 0
          },
          "base_uri": "https://localhost:8080/",
          "height": 1717
        },
        "outputId": "3306cc25-84d8-456a-d156-969ea4519cd6",
        "executionInfo": {
          "status": "ok",
          "timestamp": 1531086194276,
          "user_tz": 420,
          "elapsed": 310296,
          "user": {
            "displayName": "",
            "photoUrl": "",
            "userId": ""
          }
        }
      },
      "cell_type": "code",
      "source": [
        "run_model()"
      ],
      "execution_count": 35,
      "outputs": [
        {
          "output_type": "stream",
          "text": [
            "Step:     1 Accuracy: 0.09 Loss: 2.30583\n",
            "Step:    11 Accuracy: 0.11 Loss: 2.30186\n",
            "Step:    21 Accuracy: 0.08 Loss: 2.30511\n",
            "Step:    31 Accuracy: 0.21 Loss: 2.29075\n",
            "Step:    41 Accuracy: 0.15 Loss: 2.29265\n",
            "Step:    51 Accuracy: 0.20 Loss: 2.27482\n",
            "Step:    61 Accuracy: 0.15 Loss: 2.26867\n",
            "Step:    71 Accuracy: 0.10 Loss: 2.27087\n",
            "Step:    81 Accuracy: 0.23 Loss: 2.22898\n",
            "Step:    91 Accuracy: 0.29 Loss: 2.20487\n",
            "Step:   101 Accuracy: 0.17 Loss: 2.19615\n",
            "Step:   111 Accuracy: 0.27 Loss: 2.1077\n",
            "Step:   121 Accuracy: 0.25 Loss: 2.11234\n",
            "Step:   131 Accuracy: 0.18 Loss: 2.10016\n",
            "Step:   141 Accuracy: 0.26 Loss: 2.01859\n",
            "Step:   151 Accuracy: 0.27 Loss: 2.02123\n",
            "Step:   161 Accuracy: 0.27 Loss: 1.97566\n",
            "Step:   171 Accuracy: 0.25 Loss: 2.00915\n",
            "Step:   181 Accuracy: 0.21 Loss: 2.05813\n",
            "Step:   191 Accuracy: 0.32 Loss: 1.987\n",
            "Step:   201 Accuracy: 0.19 Loss: 2.10605\n",
            "Step:   211 Accuracy: 0.19 Loss: 2.03433\n",
            "Step:   221 Accuracy: 0.24 Loss: 1.96789\n",
            "Step:   231 Accuracy: 0.31 Loss: 1.96126\n",
            "Step:   241 Accuracy: 0.22 Loss: 2.00931\n",
            "Step:   251 Accuracy: 0.22 Loss: 1.9975\n",
            "Step:   261 Accuracy: 0.16 Loss: 2.06121\n",
            "Step:   271 Accuracy: 0.29 Loss: 1.92104\n",
            "Step:   281 Accuracy: 0.29 Loss: 1.88151\n",
            "Step:   291 Accuracy: 0.31 Loss: 1.87974\n",
            "Step:   301 Accuracy: 0.31 Loss: 1.77454\n",
            "Step:   311 Accuracy: 0.24 Loss: 1.90683\n",
            "Step:   321 Accuracy: 0.22 Loss: 1.85738\n",
            "Step:   331 Accuracy: 0.25 Loss: 1.791\n",
            "Step:   341 Accuracy: 0.24 Loss: 1.781\n",
            "Step:   351 Accuracy: 0.16 Loss: 1.91839\n",
            "Step:   361 Accuracy: 0.31 Loss: 1.74899\n",
            "Step:   371 Accuracy: 0.23 Loss: 1.86651\n",
            "Step:   381 Accuracy: 0.33 Loss: 1.75619\n",
            "Step:   391 Accuracy: 0.18 Loss: 1.88563\n",
            "Step:   401 Accuracy: 0.24 Loss: 1.85802\n",
            "Step:   411 Accuracy: 0.40 Loss: 1.77823\n",
            "Step:   421 Accuracy: 0.26 Loss: 1.72156\n",
            "Step:   431 Accuracy: 0.37 Loss: 1.69912\n",
            "Step:   441 Accuracy: 0.38 Loss: 1.72213\n",
            "Step:   451 Accuracy: 0.42 Loss: 1.57431\n",
            "Step:   461 Accuracy: 0.42 Loss: 1.628\n",
            "Step:   471 Accuracy: 0.39 Loss: 1.71204\n",
            "Step:   481 Accuracy: 0.35 Loss: 1.73764\n",
            "Step:   491 Accuracy: 0.42 Loss: 1.73181\n",
            "Step:   501 Accuracy: 0.31 Loss: 1.88615\n",
            "Step:   511 Accuracy: 0.27 Loss: 1.75674\n",
            "Step:   521 Accuracy: 0.35 Loss: 1.69262\n",
            "Step:   531 Accuracy: 0.42 Loss: 1.64597\n",
            "Step:   541 Accuracy: 0.29 Loss: 1.71966\n",
            "Step:   551 Accuracy: 0.39 Loss: 1.62103\n",
            "Step:   561 Accuracy: 0.31 Loss: 1.67922\n",
            "Step:   571 Accuracy: 0.32 Loss: 1.81097\n",
            "Step:   581 Accuracy: 0.37 Loss: 1.67318\n",
            "Step:   591 Accuracy: 0.33 Loss: 1.79789\n",
            "Step:   601 Accuracy: 0.46 Loss: 1.6323\n",
            "Step:   611 Accuracy: 0.40 Loss: 1.59371\n",
            "Step:   621 Accuracy: 0.50 Loss: 1.52727\n",
            "Step:   631 Accuracy: 0.44 Loss: 1.48\n",
            "Step:   641 Accuracy: 0.46 Loss: 1.41841\n",
            "Step:   651 Accuracy: 0.46 Loss: 1.57071\n",
            "Step:   661 Accuracy: 0.42 Loss: 1.55847\n",
            "Step:   671 Accuracy: 0.47 Loss: 1.53743\n",
            "Step:   681 Accuracy: 0.56 Loss: 1.4875\n"
          ],
          "name": "stdout"
        },
        {
          "output_type": "stream",
          "text": [
            "Step:   691 Accuracy: 0.58 Loss: 1.40864\n",
            "Step:   701 Accuracy: 0.50 Loss: 1.4155\n",
            "Step:   711 Accuracy: 0.44 Loss: 1.58779\n",
            "Step:   721 Accuracy: 0.51 Loss: 1.50643\n",
            "Step:   731 Accuracy: 0.44 Loss: 1.42334\n",
            "Step:   741 Accuracy: 0.57 Loss: 1.39071\n",
            "Step:   751 Accuracy: 0.60 Loss: 1.33811\n",
            "Step:   761 Accuracy: 0.48 Loss: 1.37399\n",
            "Step:   771 Accuracy: 0.46 Loss: 1.39781\n",
            "Step:   781 Accuracy: 0.59 Loss: 1.29439\n",
            "Step:   791 Accuracy: 0.51 Loss: 1.42584\n",
            "Step:   801 Accuracy: 0.63 Loss: 1.24868\n",
            "Step:   811 Accuracy: 0.57 Loss: 1.3906\n",
            "Step:   821 Accuracy: 0.56 Loss: 1.24479\n",
            "Step:   831 Accuracy: 0.56 Loss: 1.22516\n",
            "Step:   841 Accuracy: 0.62 Loss: 1.2179\n",
            "Step:   851 Accuracy: 0.53 Loss: 1.35418\n",
            "Step:   861 Accuracy: 0.60 Loss: 1.34376\n",
            "Step:   871 Accuracy: 0.59 Loss: 1.2164\n",
            "Step:   881 Accuracy: 0.62 Loss: 1.16791\n",
            "Step:   891 Accuracy: 0.62 Loss: 1.13751\n",
            "Step:   901 Accuracy: 0.60 Loss: 1.35233\n",
            "Step:   911 Accuracy: 0.52 Loss: 1.26745\n",
            "Step:   921 Accuracy: 0.60 Loss: 1.21253\n",
            "Step:   931 Accuracy: 0.58 Loss: 1.31968\n",
            "Step:   941 Accuracy: 0.48 Loss: 1.37007\n",
            "Step:   951 Accuracy: 0.59 Loss: 1.32852\n",
            "Step:   961 Accuracy: 0.67 Loss: 1.08514\n",
            "Step:   971 Accuracy: 0.61 Loss: 1.05335\n",
            "Step:   981 Accuracy: 0.66 Loss: 1.1635\n",
            "Step:   991 Accuracy: 0.68 Loss: 1.09621\n"
          ],
          "name": "stdout"
        }
      ]
    },
    {
      "metadata": {
        "id": "wo2vHvlG1IoF",
        "colab_type": "code",
        "colab": {
          "autoexec": {
            "startup": false,
            "wait_interval": 0
          }
        }
      },
      "cell_type": "code",
      "source": [
        ""
      ],
      "execution_count": 0,
      "outputs": []
    }
  ]
}